{
 "cells": [
  {
   "cell_type": "code",
   "execution_count": 1,
   "metadata": {},
   "outputs": [],
   "source": [
    "import requests"
   ]
  },
  {
   "cell_type": "code",
   "execution_count": 2,
   "metadata": {},
   "outputs": [],
   "source": [
    "# Define the API endpoint\n",
    "API_URL = \"http://127.0.0.1:8080/api/v1/flight/predict\""
   ]
  },
  {
   "cell_type": "code",
   "execution_count": 3,
   "metadata": {},
   "outputs": [],
   "source": [
    "# Define the input data as a list to match the FastAPI route expecting a List[FlightInput]\n",
    "input_data = [\n",
    "    {\n",
    "        \"carrier\": \"AS\",\n",
    "        \"dest\": \"HNL\",\n",
    "        \"dep_delay\": 5,\n",
    "        \"arr_delay\": 5,\n",
    "        \"arr_time\": 1505,\n",
    "        \"month\": 1,\n",
    "        \"plane_age\": 17\n",
    "    },\n",
    "    {\n",
    "        \"carrier\": \"VX\",\n",
    "        \"dest\": \"LAX\",\n",
    "        \"dep_delay\": -7,\n",
    "        \"arr_delay\": -5,\n",
    "        \"arr_time\": 935,\n",
    "        \"month\": 12,\n",
    "        \"plane_age\": 12\n",
    "    }\n",
    "]"
   ]
  },
  {
   "cell_type": "code",
   "execution_count": 4,
   "metadata": {},
   "outputs": [],
   "source": [
    "def send_flight_prediction_request(input_data):\n",
    "    try:\n",
    "        # Send POST request to the API\n",
    "        response = requests.post(API_URL, json=input_data)\n",
    "        \n",
    "        # Raise exception for bad HTTP status codes\n",
    "        response.raise_for_status()\n",
    "        \n",
    "        # Parse the response JSON if request is successful\n",
    "        response_data = response.json()\n",
    "        \n",
    "        # Display the predictions from the API response\n",
    "        if \"predictions\" in response_data:\n",
    "            for prediction in response_data[\"predictions\"]:\n",
    "                print(f\"Prediction: {prediction['prediction']}\")\n",
    "                print(f\"Probability: {prediction['probability']}\")\n",
    "                print(f\"Message: {prediction['message']}\")\n",
    "        else:\n",
    "            print(\"No predictions found in the response.\")\n",
    "            \n",
    "    except requests.exceptions.HTTPError as http_err:\n",
    "        print(f\"HTTP error occurred: {http_err}\")\n",
    "    except Exception as err:\n",
    "        print(f\"Other error occurred: {err}\")"
   ]
  },
  {
   "cell_type": "code",
   "execution_count": 5,
   "metadata": {},
   "outputs": [
    {
     "name": "stdout",
     "output_type": "stream",
     "text": [
      "Prediction: 1.0\n",
      "Probability: [0.2226147759073654, 0.7773852240926347]\n",
      "Message: Flight is late\n",
      "Prediction: 0.0\n",
      "Probability: [0.8901286318538559, 0.10987136814614407]\n",
      "Message: Flight is on time\n"
     ]
    }
   ],
   "source": [
    "send_flight_prediction_request(input_data)"
   ]
  },
  {
   "cell_type": "code",
   "execution_count": null,
   "metadata": {},
   "outputs": [],
   "source": []
  }
 ],
 "metadata": {
  "kernelspec": {
   "display_name": "jupyter-env",
   "language": "python",
   "name": "python3"
  },
  "language_info": {
   "codemirror_mode": {
    "name": "ipython",
    "version": 3
   },
   "file_extension": ".py",
   "mimetype": "text/x-python",
   "name": "python",
   "nbconvert_exporter": "python",
   "pygments_lexer": "ipython3",
   "version": "3.11.9"
  }
 },
 "nbformat": 4,
 "nbformat_minor": 2
}
